{
 "cells": [
  {
   "cell_type": "markdown",
   "id": "b35d8fe3",
   "metadata": {},
   "source": [
    "Lorenz curve in this case is where the slope of the line comparing the large-fire size and the fraction of total area burned captured by \"large\" fires = 1 (per the large fire threshold Excel file in the MS Teams). In this example I'll try to calculate a Lorenz curve using the fires from the FOD that intersect with PY136. This makes the target 18.0 acres (according to the same spreadsheet)\n",
    "\n",
    "Conceptual steps\n",
    "1. Data- PY136, FOD\n",
    "2. Extract fire points that intersect with PY136\n",
    "3. "
   ]
  },
  {
   "cell_type": "code",
   "execution_count": 32,
   "id": "de91cd65",
   "metadata": {},
   "outputs": [],
   "source": [
    "## calculate a Lorenz curve for PY136\n",
    "import os\n",
    "import geopandas as gpd\n",
    "import rasterio as rio\n",
    "import numpy as np\n",
    "import matplotlib.pyplot as plt\n"
   ]
  },
  {
   "cell_type": "code",
   "execution_count": 15,
   "id": "a5981df0",
   "metadata": {},
   "outputs": [],
   "source": [
    "## read in data sources\n",
    "# fire occurrence\n",
    "fod_gdb = r\"C:\\Users\\Charlie\\Desktop\\ArcGIS\\data\\NatFSim\\NatFSim2022\\fire_occurrence\\FPA_FOD_20221014.gdb\"\n",
    "fires = gpd.read_file(fod_gdb, layer=\"Fires\")\n",
    "\n",
    "# pyrome shapefiles\n",
    "pyromes_path = r\"C:\\Users\\Charlie\\Desktop\\ArcGIS\\data\\WCS_OPM_FY24\\0_AnalysisArea\\Pyromes\\Pyromes_CONUS_20200206.shp\"\n",
    "pyrome_boundaries = gpd.read_file(pyromes_path)"
   ]
  },
  {
   "cell_type": "code",
   "execution_count": 23,
   "id": "084b3efc",
   "metadata": {},
   "outputs": [
    {
     "name": "stdout",
     "output_type": "stream",
     "text": [
      "(1137831, 38)\n",
      "(82548, 38)\n"
     ]
    },
    {
     "name": "stderr",
     "output_type": "stream",
     "text": [
      "C:\\Users\\Charlie\\AppData\\Local\\Temp\\ipykernel_42752\\1117682292.py:12: UserWarning: Column names longer than 10 characters will be truncated when saved to ESRI Shapefile.\n",
      "  fires_1ac.to_file(os.path.join(fod_dir, \"fires_1ac.shp\"))\n",
      "C:\\Users\\Charlie\\AppData\\Local\\Temp\\ipykernel_42752\\1117682292.py:13: UserWarning: Column names longer than 10 characters will be truncated when saved to ESRI Shapefile.\n",
      "  fires_72ac.to_file(os.path.join(fod_dir, \"fires_72ac.shp\"))\n"
     ]
    }
   ],
   "source": [
    "# filter fire occurrence based on two min large-fire sizes: recorded in the excel spreadsheet (1.0 acres) and in the methods doc (72 acres)\n",
    "# print(fires.columns)\n",
    "# print(fires.shape)\n",
    "# print(fires['FIRE_SIZE'].dtype)\n",
    "fires_1ac = fires[fires[\"FIRE_SIZE\"] >= 1]\n",
    "print(fires_1ac.shape)\n",
    "fires_72ac = fires[fires[\"FIRE_SIZE\"] >= 72]\n",
    "print(fires_72ac.shape)\n",
    "\n",
    "# write the filtered points shapefiles to fire occurrence folder\n",
    "fod_dir = r\"C:\\Users\\Charlie\\Desktop\\ArcGIS\\data\\NatFSim\\NatFSim2022\\fire_occurrence\"\n",
    "fires_1ac.to_file(os.path.join(fod_dir, \"fires_1ac.shp\"))\n",
    "fires_72ac.to_file(os.path.join(fod_dir, \"fires_72ac.shp\"))\n"
   ]
  },
  {
   "cell_type": "markdown",
   "id": "944fa716",
   "metadata": {},
   "source": [
    "export as a geopackage to preserve full field names ^"
   ]
  },
  {
   "cell_type": "code",
   "execution_count": 61,
   "id": "8f5285ed",
   "metadata": {},
   "outputs": [],
   "source": [
    "## test with just one pyrome\n",
    "# filter for pyrome 17\n",
    "PY_017 = pyrome_boundaries[pyrome_boundaries[\"PYROME\"] == 17]\n",
    "PY_017.head()\n",
    "PY_017 = PY_017.to_crs(fires.crs)\n",
    "\n",
    "# find fires that intersect with the pyrome\n",
    "PY_017_fires = gpd.overlay(fires, PY_017, how='intersection')"
   ]
  },
  {
   "cell_type": "code",
   "execution_count": 62,
   "id": "46b700a8",
   "metadata": {},
   "outputs": [],
   "source": [
    "PY_017_fires.shape\n",
    "PY_017_fires.columns\n",
    "PY_017_fires = PY_017_fires[['FIRE_SIZE', 'FOD_ID']]"
   ]
  },
  {
   "cell_type": "markdown",
   "id": "e5a95b9d",
   "metadata": {},
   "source": [
    "cross-referenced this number with the intersection of the points and the polygon using ArcGIS, and they match"
   ]
  },
  {
   "cell_type": "code",
   "execution_count": 80,
   "id": "e5b600dd",
   "metadata": {},
   "outputs": [
    {
     "name": "stdout",
     "output_type": "stream",
     "text": [
      "   FIRE_SIZE     FOD_ID  cum_fires  cum_fires_per  cum_area  cum_area_per  \\\n",
      "0   589368.0  400629554   1.000000     100.000000  1.000000    100.000000   \n",
      "1   499945.0     155225   0.999958      99.995809  0.881715     88.171543   \n",
      "2   328363.0  400629598   0.999916      99.991617  0.781378     78.137781   \n",
      "3   229651.0  400302960   0.999874      99.987426  0.715476     71.547624   \n",
      "4   191125.0  400008336   0.999832      99.983235  0.669386     66.938590   \n",
      "\n",
      "         slope  \n",
      "0  2822.151636  \n",
      "1  2393.955219  \n",
      "2  1572.345593  \n",
      "3  1099.669384  \n",
      "4   915.190053  \n",
      "   FIRE_SIZE     FOD_ID  cum_fires  cum_fires_per  cum_area  cum_area_per  \\\n",
      "0   589368.0  400629554   0.000042       0.004191  1.000000    100.000000   \n",
      "1   499945.0     155225   0.000084       0.008383  0.881715     88.171543   \n",
      "2   328363.0  400629598   0.000126       0.012574  0.781378     78.137781   \n",
      "3   229651.0  400302960   0.000168       0.016765  0.715476     71.547624   \n",
      "4   191125.0  400008336   0.000210       0.020956  0.669386     66.938590   \n",
      "\n",
      "         slope  \n",
      "0  2822.151636  \n",
      "1  2393.955219  \n",
      "2  1572.345593  \n",
      "3  1099.669384  \n",
      "4   915.190053  \n",
      "       FIRE_SIZE  FOD_ID  cum_fires  cum_fires_per  cum_area  cum_area_per  \\\n",
      "23854       0.01  875691   0.999832      99.983235       1.0     99.999999   \n",
      "23855       0.01  875690   0.999874      99.987426       1.0     99.999999   \n",
      "23856       0.01  905805   0.999916      99.991617       1.0    100.000000   \n",
      "23857       0.01  905823   0.999958      99.995809       1.0    100.000000   \n",
      "23858       0.01  914021   1.000000     100.000000       1.0    100.000000   \n",
      "\n",
      "          slope  \n",
      "23854  0.000048  \n",
      "23855  0.000048  \n",
      "23856  0.000048  \n",
      "23857  0.000048  \n",
      "23858       NaN  \n"
     ]
    }
   ],
   "source": [
    "## calculating a lorenz curve\n",
    "# sort by fire size\n",
    "# PY_017_fires = PY_017_fires.sort_values(by='FIRE_SIZE').reset_index(drop=True)\n",
    "PY_017_fires = PY_017_fires.sort_values(by='FIRE_SIZE', ascending=False).reset_index(drop=True)\n",
    "print(PY_017_fires.head())\n",
    "\n",
    "# calculate cumulative fires\n",
    "PY_017_fires['cum_fires'] = (np.arange(1, len(PY_017_fires) + 1)) / len(PY_017_fires)\n",
    "PY_017_fires['cum_fires_per'] = PY_017_fires['cum_fires'] * 100\n",
    "print(PY_017_fires.head())\n",
    "\n",
    "# calculate cumulative burned area\n",
    "PY_017_fires['cum_area'] = PY_017_fires['FIRE_SIZE'].cumsum() / PY_017_fires['FIRE_SIZE'].sum()\n",
    "PY_017_fires['cum_area_per'] = PY_017_fires['cum_area'] * 100\n",
    "print(PY_017_fires.tail())\n"
   ]
  },
  {
   "cell_type": "markdown",
   "id": "a1c3e15f",
   "metadata": {},
   "source": [
    "interpretations:\n",
    "1. cumulative fire percent- the percentage of data points that fall at and below this record. For example, the cumulative percentage of the 5th of 100 data points is 5%\n",
    "2. cumulative sum of fire size- shows the sum of fire size for all records at and below that record"
   ]
  },
  {
   "cell_type": "code",
   "execution_count": 81,
   "id": "703e6e39",
   "metadata": {},
   "outputs": [],
   "source": [
    "# print(PY_017_fires['FIRE_SIZE'].sum())\n",
    "# print(PY_017_fires['FIRE_SIZE'].cumsum())"
   ]
  },
  {
   "cell_type": "code",
   "execution_count": 82,
   "id": "2eae0672",
   "metadata": {},
   "outputs": [
    {
     "data": {
      "image/png": "[encoded data removed]",
      "text/plain": [
       "<Figure size 800x600 with 1 Axes>"
      ]
     },
     "metadata": {},
     "output_type": "display_data"
    }
   ],
   "source": [
    "# plot the curve\n",
    "x = PY_017_fires['cum_area_per']\n",
    "y = PY_017_fires['cum_fires_per']\n",
    "\n",
    "# Chicago Bears-inspired colors\n",
    "blue = \"#0065D1\"  # Lighter blue for the Lorenz curve\n",
    "orange = \"#FF5A1F\"  # Bright orange for the line of perfect equality\n",
    "\n",
    "# Create the plot\n",
    "plt.figure(figsize=(8, 6))\n",
    "\n",
    "# Plot the Lorenz curve\n",
    "# This curve shows the inequality in crime distribution across neighborhoods\n",
    "plt.plot(x, y, label=\"Lorenz Curve\", color=blue, linewidth=2)\n",
    "\n",
    "# Plot the line of perfect equality\n",
    "# This line represents a hypothetical scenario where crimes are evenly distributed\n",
    "plt.plot([0, 1], [0, 1], label=\"Line of Perfect Equality\", color=orange, linestyle=\"--\", linewidth=2)\n",
    "\n",
    "# Add a title to explain what the graph represents\n",
    "plt.title(\"Lorenz Curve of Fire-Size Distribution\", fontsize=16, color=\"black\", pad=15)\n",
    "\n",
    "# Label the x-axis to show what the horizontal axis represents\n",
    "plt.xlabel(\"Cumulative area of fires\", fontsize=12, color=\"black\", labelpad=10)\n",
    "\n",
    "# Label the y-axis to show what the vertical axis represents\n",
    "plt.ylabel(\"Cumulative share of fires\", fontsize=12, color=\"black\", labelpad=10)\n",
    "\n",
    "# Add a legend to explain the two lines\n",
    "plt.legend(fontsize=12, loc=\"lower right\", frameon=False)\n",
    "\n",
    "# Remove the grid for a cleaner look\n",
    "plt.grid(False)\n",
    "\n",
    "# Set the background color to white for a professional appearance\n",
    "plt.gca().set_facecolor(\"white\")\n",
    "\n",
    "# Remove the top and right borders of the graph for a minimalist design\n",
    "plt.gca().spines[\"top\"].set_visible(False)\n",
    "plt.gca().spines[\"right\"].set_visible(False)\n",
    "\n",
    "# Display the plot\n",
    "plt.show()"
   ]
  },
  {
   "cell_type": "code",
   "execution_count": 83,
   "id": "09217e12",
   "metadata": {},
   "outputs": [
    {
     "name": "stdout",
     "output_type": "stream",
     "text": [
      "FIRE_SIZE           210.000000\n",
      "FOD_ID           905801.000000\n",
      "cum_fires             0.014208\n",
      "cum_fires_per         1.420847\n",
      "cum_area              0.991122\n",
      "cum_area_per         99.112250\n",
      "slope                 1.005572\n",
      "Name: 338, dtype: float64\n"
     ]
    }
   ],
   "source": [
    "## find where the slope of the line is closest to 1, or the minimum large-fire size threshold\n",
    "# calculate difference vectors\n",
    "# np.diff calculates the difference of each element with the element before it\n",
    "dx = np.diff(PY_017_fires['cum_fires_per'])\n",
    "dy = np.diff(PY_017_fires['cum_area_per'])\n",
    "\n",
    "# calculate slope and replace NaN with 0\n",
    "slope = dy / dx\n",
    "slope = np.insert(slope, 0, np.nan)\n",
    "\n",
    "# create a new dataFrame from the 2nd row onward (first calculated slope is nan)\n",
    "PY_017_fires['slope'] = slope\n",
    "\n",
    "# find the row at which the slope of the line is closest to 1\n",
    "idx_1 = (PY_017_fires['slope'] - 1).abs().idxmin() # subtract 1 from each slope value, find the absolute value, find the index position of the minimum\n",
    "row_1 = PY_017_fires.loc[idx_1]\n",
    "print(row_1)\n"
   ]
  },
  {
   "cell_type": "markdown",
   "id": "d4275f4b",
   "metadata": {},
   "source": [
    "In pyrome 17, fires 210 acres and above account for 1.42% of fires and 99.1% of burned area"
   ]
  },
  {
   "cell_type": "code",
   "execution_count": 87,
   "id": "309e8d66",
   "metadata": {},
   "outputs": [],
   "source": [
    "# turning it into a function to quickly test different pyromes\n",
    "# requires pyrome number as a value - 1, 4, 17\n",
    "def find_min_fire_size(pyrome):\n",
    "\n",
    "    # select individual pyrome from the shapefile and ensure it's on the same crs as the FOD\n",
    "    py = pyrome_boundaries[pyrome_boundaries[\"PYROME\"] == pyrome]\n",
    "    py = py.to_crs(fires.crs) # convert to an if statement to only do the conversion if the crs are different\n",
    "\n",
    "    # find the fires that intersect with the pyrome\n",
    "    py_fires = gpd.overlay(fires, py, how='intersection')\n",
    "    py_fires = py_fires[['FIRE_SIZE', 'FOD_ID']]\n",
    "\n",
    "    # sort descending by fire size\n",
    "    py_fires = py_fires.sort_values(by='FIRE_SIZE', ascending=False).reset_index(drop=True)\n",
    "\n",
    "    # calculate cumulative fires and %\n",
    "    py_fires['cum_fires'] = (np.arange(1, len(py_fires) + 1)) / len(py_fires)\n",
    "    py_fires['cum_fires_per'] = py_fires['cum_fires'] * 100\n",
    "\n",
    "    # calculate cumulative burned area and %\n",
    "    py_fires['cum_area'] = py_fires['FIRE_SIZE'].cumsum() / py_fires['FIRE_SIZE'].sum()\n",
    "    py_fires['cum_area_per'] = py_fires['cum_area'] * 100\n",
    "\n",
    "    # calculate difference vectors\n",
    "    # np.diff calculates the difference of each element with the element before it\n",
    "    dx = np.diff(py_fires['cum_fires_per'])\n",
    "    dy = np.diff(py_fires['cum_area_per'])\n",
    "\n",
    "    # calculate slope and replace NaN with 0\n",
    "    slope = dy / dx\n",
    "    slope = np.insert(slope, 0, np.nan)\n",
    "\n",
    "    # create a new dataFrame from the 2nd row onward (first calculated slope is nan)\n",
    "    py_fires['slope'] = slope\n",
    "\n",
    "    # find the row at which the slope of the line is closest to 1\n",
    "    idx_1 = (py_fires['slope'] - 1).abs().idxmin() # subtract 1 from each slope value, find the absolute value, find the index position of the minimum\n",
    "    row_1 = py_fires.loc[idx_1]\n",
    "    print(row_1)"
   ]
  },
  {
   "cell_type": "code",
   "execution_count": 89,
   "id": "48e369b4",
   "metadata": {},
   "outputs": [
    {
     "name": "stdout",
     "output_type": "stream",
     "text": [
      "FIRE_SIZE            5.100000\n",
      "FOD_ID           19326.000000\n",
      "cum_fires            0.049774\n",
      "cum_fires_per        4.977376\n",
      "cum_area             0.916553\n",
      "cum_area_per        91.655320\n",
      "slope                0.990582\n",
      "Name: 857, dtype: float64\n"
     ]
    }
   ],
   "source": [
    "find_min_fire_size(1)"
   ]
  },
  {
   "cell_type": "code",
   "execution_count": 90,
   "id": "37d9be0d",
   "metadata": {},
   "outputs": [
    {
     "name": "stdout",
     "output_type": "stream",
     "text": [
      "FIRE_SIZE            60.000000\n",
      "FOD_ID           731511.000000\n",
      "cum_fires             0.043895\n",
      "cum_fires_per         4.389465\n",
      "cum_area              0.981361\n",
      "cum_area_per         98.136094\n",
      "slope                 0.999596\n",
      "Name: 109, dtype: float64\n"
     ]
    }
   ],
   "source": [
    "find_min_fire_size(2)"
   ]
  },
  {
   "cell_type": "code",
   "execution_count": 94,
   "id": "6fe11667",
   "metadata": {},
   "outputs": [
    {
     "name": "stdout",
     "output_type": "stream",
     "text": [
      "FIRE_SIZE        9.600000e+02\n",
      "FOD_ID           4.003151e+08\n",
      "cum_fires        8.268551e-02\n",
      "cum_fires_per    8.268551e+00\n",
      "cum_area         9.486480e-01\n",
      "cum_area_per     9.486480e+01\n",
      "slope            9.924658e-01\n",
      "Name: 116, dtype: float64\n"
     ]
    }
   ],
   "source": [
    "find_min_fire_size(49)"
   ]
  }
 ],
 "metadata": {
  "kernelspec": {
   "display_name": "Python 3",
   "language": "python",
   "name": "python3"
  },
  "language_info": {
   "codemirror_mode": {
    "name": "ipython",
    "version": 3
   },
   "file_extension": ".py",
   "mimetype": "text/x-python",
   "name": "python",
   "nbconvert_exporter": "python",
   "pygments_lexer": "ipython3",
   "version": "3.11.8"
  }
 },
 "nbformat": 4,
 "nbformat_minor": 5
}
